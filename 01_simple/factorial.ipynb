{
 "cells": [
  {
   "cell_type": "markdown",
   "metadata": {
    "collapsed": true,
    "pycharm": {
     "name": "#%% md\n"
    }
   },
   "source": [
    "Липанов Максим Андреевич\n",
    "\n",
    "Группа М06-106б\n",
    "\n",
    "Алгоритм вычисления факториала числа n"
   ]
  },
  {
   "cell_type": "markdown",
   "source": [
    "0. Блок импортов"
   ],
   "metadata": {
    "collapsed": false,
    "pycharm": {
     "name": "#%% md\n"
    }
   }
  },
  {
   "cell_type": "code",
   "execution_count": 21,
   "outputs": [],
   "source": [
    "from time import perf_counter\n",
    "import pandas as pd\n",
    "import matplotlib.pyplot as plt\n",
    "import seaborn as sns; sns.set_theme()"
   ],
   "metadata": {
    "collapsed": false,
    "pycharm": {
     "name": "#%%\n"
    }
   }
  },
  {
   "cell_type": "markdown",
   "source": [
    "1. Реализация наивного алгоритма - сложность O(n)"
   ],
   "metadata": {
    "collapsed": false,
    "pycharm": {
     "name": "#%% md\n"
    }
   }
  },
  {
   "cell_type": "code",
   "execution_count": 2,
   "outputs": [],
   "source": [
    "def fact_naive(n: int) -> int:\n",
    "    factorial = 1\n",
    "\n",
    "    for i in range(1, n + 1):\n",
    "        factorial *= i\n",
    "\n",
    "    return factorial\n"
   ],
   "metadata": {
    "collapsed": false,
    "pycharm": {
     "name": "#%%\n"
    }
   }
  },
  {
   "cell_type": "markdown",
   "source": [
    "2. Релизация оптимизированного алгоритма - сложность O(log(n))\n",
    "\n",
    "основа взята с: https://habr.com/ru/post/255761/"
   ],
   "metadata": {
    "collapsed": false,
    "pycharm": {
     "name": "#%% md\n"
    }
   }
  },
  {
   "cell_type": "code",
   "execution_count": 3,
   "outputs": [],
   "source": [
    "def tree(left: int, right: int) -> int:\n",
    "    if left > right:\n",
    "        return 1\n",
    "\n",
    "    if left == right:\n",
    "        return left\n",
    "\n",
    "    if right - left == 1:\n",
    "        return right * left\n",
    "\n",
    "    mid = (left + right) / 2\n",
    "    return tree(left, mid) * tree(mid + 1, right)\n",
    "\n",
    "def fact_quick(n: int) -> int:\n",
    "\n",
    "    if n <= 1:\n",
    "        return 1\n",
    "\n",
    "    if n == 2:\n",
    "        return n\n",
    "\n",
    "    return tree(2, n)"
   ],
   "metadata": {
    "collapsed": false,
    "pycharm": {
     "name": "#%%\n"
    }
   }
  },
  {
   "cell_type": "markdown",
   "source": [
    "3. Релизовать расчет времени выполнения алгоритма"
   ],
   "metadata": {
    "collapsed": false,
    "pycharm": {
     "name": "#%% md\n"
    }
   }
  },
  {
   "cell_type": "code",
   "execution_count": 16,
   "outputs": [],
   "source": [
    "def benchmark(func, *args, **kwargs) -> float:\n",
    "    start = perf_counter()\n",
    "\n",
    "    func(*args, **kwargs)\n",
    "\n",
    "    end = perf_counter()\n",
    "\n",
    "    return round((end - start) * 1000, 3)\n"
   ],
   "metadata": {
    "collapsed": false,
    "pycharm": {
     "name": "#%%\n"
    }
   }
  },
  {
   "cell_type": "markdown",
   "source": [
    "4. Подобрать параметры для расчета времени выполнения наивного и оптимизированного алгоритмов таким образом,\n",
    "чтобы сложность выполнения алгоритмов возрастала"
   ],
   "metadata": {
    "collapsed": false,
    "pycharm": {
     "name": "#%% md\n"
    }
   }
  },
  {
   "cell_type": "code",
   "execution_count": 5,
   "outputs": [],
   "source": [
    "values = [100, 200, 500, 1000, 2000, 5000, 10000, 20000, 50000]"
   ],
   "metadata": {
    "collapsed": false,
    "pycharm": {
     "name": "#%%\n"
    }
   }
  },
  {
   "cell_type": "markdown",
   "source": [
    "5.\tВычислить время выполнения наивного и оптимизированного алгоритмов для заданного набора параметров;\n",
    "внести полученные данные в таблицу\n"
   ],
   "metadata": {
    "collapsed": false,
    "pycharm": {
     "name": "#%% md\n"
    }
   }
  },
  {
   "cell_type": "code",
   "execution_count": 17,
   "outputs": [
    {
     "name": "stdout",
     "output_type": "stream",
     "text": [
      "[0.391, 6.217, 24.555, 100.789, 751.009, 3125.721]\n",
      "[12.51, 60.329, 116.276, 224.224, 547.157, 1068.041]\n"
     ]
    }
   ],
   "source": [
    "naive_bench = [benchmark(fact_naive, i) for i in values]\n",
    "\n",
    "tree_bench = [benchmark(fact_quick, i) for i in values]"
   ],
   "metadata": {
    "collapsed": false,
    "pycharm": {
     "name": "#%%\n"
    }
   }
  },
  {
   "cell_type": "code",
   "execution_count": 18,
   "outputs": [],
   "source": [
    "data = {\n",
    "    'values': values,\n",
    "    'naive': naive_bench,\n",
    "    'tree': tree_bench,\n",
    "}\n",
    "\n",
    "df = pd.DataFrame.from_dict(data)\n",
    "print(df)"
   ],
   "metadata": {
    "collapsed": false,
    "pycharm": {
     "name": "#%%\n"
    }
   }
  },
  {
   "cell_type": "markdown",
   "source": [
    "6. Визуализировать полученные данные в виде двух графиков на одной координатной плоскости\n",
    "(по оси Ox – номер параметра, по оси Oy – время выполнения"
   ],
   "metadata": {
    "collapsed": false,
    "pycharm": {
     "name": "#%% md\n"
    }
   }
  },
  {
   "cell_type": "code",
   "execution_count": 50,
   "outputs": [
    {
     "data": {
      "text/plain": "Text(0, 0.5, 'time, ms')"
     },
     "execution_count": 50,
     "metadata": {},
     "output_type": "execute_result"
    },
    {
     "data": {
      "text/plain": "<Figure size 432x288 with 1 Axes>",
      "image/png": "[encoded data removed]"
     },
     "metadata": {},
     "output_type": "display_data"
    }
   ],
   "source": [
    "sns.lineplot(data=df, x='values', y='naive', legend=True, label='naive')\n",
    "sns.lineplot(data=df, x='values', y='tree', legend=True, label='tree')\n",
    "\n",
    "plt.ylabel('time, ms')\n"
   ],
   "metadata": {
    "collapsed": false,
    "pycharm": {
     "name": "#%%\n"
    }
   }
  },
  {
   "cell_type": "markdown",
   "source": [
    "7. Исходя из полученных данных и после построения графиков, делаем вывод о том, что алгоритм наивной сортировки имеет\n",
    "сложность O(n), алгоритм нахождения факториала с помощью дерева - O(log(n))"
   ],
   "metadata": {
    "collapsed": false,
    "pycharm": {
     "name": "#%% md\n"
    }
   }
  }
 ],
 "metadata": {
  "kernelspec": {
   "display_name": "Python 3",
   "language": "python",
   "name": "python3"
  },
  "language_info": {
   "codemirror_mode": {
    "name": "ipython",
    "version": 2
   },
   "file_extension": ".py",
   "mimetype": "text/x-python",
   "name": "python",
   "nbconvert_exporter": "python",
   "pygments_lexer": "ipython2",
   "version": "2.7.6"
  }
 },
 "nbformat": 4,
 "nbformat_minor": 0
}