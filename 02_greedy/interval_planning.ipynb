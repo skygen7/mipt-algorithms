{
 "cells": [
  {
   "cell_type": "markdown",
   "metadata": {
    "collapsed": true,
    "pycharm": {
     "name": "#%% md\n"
    }
   },
   "source": [
    "Липанов Максим Андреевич\n",
    "\n",
    "Группа М06-106б\n",
    "\n",
    "Задача об интервалом планировании"
   ]
  },
  {
   "cell_type": "markdown",
   "source": [
    "1. Программно реализовать «жадный алгоритм» решения задачи"
   ],
   "metadata": {
    "collapsed": false,
    "pycharm": {
     "name": "#%% md\n"
    }
   }
  },
  {
   "cell_type": "markdown",
   "source": [
    "1.1 Простой алгоритм (сложность - O(n^2)\n",
    "\n",
    "Реализован следующим образом:\n",
    "\n",
    "Надежный шаг в этом случае - отрезок с минимальным правым значением. Находим такой отрезок в цикле, убираем все\n",
    "пересечения с этим отрезком, добавляем в результат, цикл выполняется до тех пор, пока исходное множество не пустое."
   ],
   "metadata": {
    "collapsed": false,
    "pycharm": {
     "name": "#%% md\n"
    }
   }
  },
  {
   "cell_type": "code",
   "execution_count": null,
   "outputs": [],
   "source": [
    "def simple_interval_planning(intervals: set) -> list:\n",
    "    result = []\n",
    "\n",
    "    while intervals:\n",
    "        step = next(iter(intervals))\n",
    "        min_right = step[1]\n",
    "\n",
    "        for left, right in intervals:\n",
    "            if right < min_right:\n",
    "                min_right = right\n",
    "                step = (left, min_right)\n",
    "\n",
    "        copy_intervals = intervals.copy()\n",
    "\n",
    "        for interval in copy_intervals:\n",
    "            if min_right > interval[0]:\n",
    "                intervals.remove(interval)\n",
    "\n",
    "        result.append(step)\n",
    "\n",
    "    return result"
   ],
   "metadata": {
    "collapsed": false,
    "pycharm": {
     "name": "#%%\n"
    }
   }
  },
  {
   "cell_type": "code",
   "execution_count": null,
   "outputs": [],
   "source": [],
   "metadata": {
    "collapsed": false,
    "pycharm": {
     "name": "#%%\n"
    }
   }
  },
  {
   "cell_type": "markdown",
   "source": [
    "1.2 Улучшенный алгоритм (сложность - O(n*log(n))\n",
    "\n",
    "Практически тоже самое, только вначале сортируем исходное множество по правому значению отрезка, затем проходим по\n",
    "сортированному списку, делаем проверку: если отрезок имеет пересечение с предыдущим, пропускаем его, иначе добавляем\n",
    "в результат"
   ],
   "metadata": {
    "collapsed": false,
    "pycharm": {
     "name": "#%% md\n"
    }
   }
  },
  {
   "cell_type": "code",
   "execution_count": null,
   "outputs": [],
   "source": [
    "def quick_interval_planning(intervals: set) -> list:\n",
    "    result = []\n",
    "    sort_intervals = iter(sorted(intervals, key=lambda x: x[1]))\n",
    "\n",
    "    prev = next(sort_intervals)\n",
    "    result.append(prev)\n",
    "\n",
    "    for left, right in sort_intervals:\n",
    "        if left >= prev[1]:\n",
    "            prev = (left, right)\n",
    "            result.append(prev)\n",
    "    return result\n"
   ],
   "metadata": {
    "collapsed": false,
    "pycharm": {
     "name": "#%%\n"
    }
   }
  },
  {
   "cell_type": "markdown",
   "source": [
    "2. Проверить работу алгоритма на нескольких наборах входных параметрах"
   ],
   "metadata": {
    "collapsed": false,
    "pycharm": {
     "name": "#%% md\n"
    }
   }
  },
  {
   "cell_type": "code",
   "execution_count": null,
   "outputs": [],
   "source": [
    "def test_algo(source: set, correct: list, algo) -> str:\n",
    "    if type(source) is not set:\n",
    "        raise TypeError('Input data must be a set')\n",
    "\n",
    "    if type(correct) is not (list or tuple):\n",
    "        raise TypeError('Output data must be a list or tuple')\n",
    "\n",
    "    if not algo:\n",
    "        raise Exception('Select algorithm')\n",
    "\n",
    "    if len(source) == 0:\n",
    "        return ''\n",
    "\n",
    "    source_result = algo(source.copy())\n",
    "\n",
    "    if source_result == correct:\n",
    "        return f'Algorithm {algo.__name__} is corrected'\n",
    "    else:\n",
    "        return f'Algorithm {algo.__name__} is not corrected'"
   ],
   "metadata": {
    "collapsed": false,
    "pycharm": {
     "name": "#%%\n"
    }
   }
  },
  {
   "cell_type": "code",
   "execution_count": null,
   "outputs": [],
   "source": [
    "source_data_1 = {(0, 2), (1, 10), (2, 5), (0, 4), (3, 6), (5, 10)}\n",
    "source_data_2 = {(1, 2), (9, 10), (10, 15), (11, 12), (6, 8), (4, 6), (1, 20), (5, 7), (3, 7), (13, 16), (16, 20)}\n",
    "\n",
    "correct_data_1 = [(0, 2), (2, 5), (5, 10)]\n",
    "correct_data_2 = [(1, 2), (4, 6), (6, 8), (9, 10), (11, 12), (13, 16), (16, 20)]\n",
    "\n",
    "functions = (simple_interval_planning, quick_interval_planning)\n",
    "\n",
    "for func in functions:\n",
    "    print(test_algo(source_data_1, correct_data_1, func))\n",
    "    print(test_algo(source_data_2, correct_data_2, func))"
   ],
   "metadata": {
    "collapsed": false,
    "pycharm": {
     "name": "#%%\n"
    }
   }
  },
  {
   "cell_type": "markdown",
   "source": [
    "3. Выводы\n",
    "\n",
    "Как видим, оба алгоритма работают. Первый алгоритм (простой) имеет сложность - O(n^2), второй - O(n*log(n))"
   ],
   "metadata": {
    "collapsed": false
   }
  }
 ],
 "metadata": {
  "kernelspec": {
   "display_name": "Python 3",
   "language": "python",
   "name": "python3"
  },
  "language_info": {
   "codemirror_mode": {
    "name": "ipython",
    "version": 2
   },
   "file_extension": ".py",
   "mimetype": "text/x-python",
   "name": "python",
   "nbconvert_exporter": "python",
   "pygments_lexer": "ipython2",
   "version": "2.7.6"
  }
 },
 "nbformat": 4,
 "nbformat_minor": 0
}