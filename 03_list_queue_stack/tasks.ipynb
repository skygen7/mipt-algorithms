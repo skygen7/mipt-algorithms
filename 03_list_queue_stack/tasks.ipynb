{
 "cells": [
  {
   "cell_type": "markdown",
   "metadata": {
    "collapsed": true,
    "pycharm": {
     "name": "#%% md\n"
    }
   },
   "source": [
    "Липанов Максим Андреевич\n",
    "\n",
    "Группа М06-106б\n",
    "\n",
    "Базовые структуры данных: списки, стеки, очереди"
   ]
  },
  {
   "cell_type": "code",
   "execution_count": 8,
   "outputs": [],
   "source": [
    "# Imports\n",
    "from random import randint"
   ],
   "metadata": {
    "collapsed": false,
    "pycharm": {
     "name": "#%%\n"
    }
   }
  },
  {
   "cell_type": "markdown",
   "source": [
    "1.Создать список на основе вводимых пользователем целых чисел (из другого списка или из файла),\n",
    "отсортированный по возрастанию. Метод sort() использовать нельзя! Вывести полученный список на экран.\n",
    "В качестве метода сортировки выбрана сортировка пузырьком"
   ],
   "metadata": {
    "collapsed": false,
    "pycharm": {
     "name": "#%% md\n"
    }
   }
  },
  {
   "cell_type": "code",
   "execution_count": 9,
   "outputs": [],
   "source": [
    "def bubble_sort(array: list) -> list:\n",
    "    \"\"\"\n",
    "    Bubble sort (Пузырьковая сортировка). Complexity = O(n^2)\n",
    "    :param list array: unsorted list of integer (неупорядоченный список целых чисел)\n",
    "    :return: list\n",
    "    \"\"\"\n",
    "    swap = True\n",
    "\n",
    "    while swap:\n",
    "        swap = False\n",
    "        for i in range(len(array) - 1):\n",
    "            if array[i] > array[i + 1]:\n",
    "                array[i], array[i + 1] = array[i + 1], array[i]\n",
    "                swap = True\n",
    "\n",
    "    return array"
   ],
   "metadata": {
    "collapsed": false,
    "pycharm": {
     "name": "#%%\n"
    }
   }
  },
  {
   "cell_type": "code",
   "execution_count": 17,
   "outputs": [
    {
     "name": "stdout",
     "output_type": "stream",
     "text": [
      "Sorted list: [1, 5, 7]\n",
      "Task one successfully tested\n"
     ]
    }
   ],
   "source": [
    "def task_one():\n",
    "\n",
    "    data_type = input('Enter data type (string or file): ')\n",
    "\n",
    "    if data_type == 'string':\n",
    "        data = input('Enter integers through spaces: ')\n",
    "\n",
    "    elif data_type == 'file':\n",
    "        path = input('Enter filename: ')\n",
    "        try:\n",
    "            with open(path.strip()) as file:\n",
    "                data = file.readline().strip()\n",
    "        except OSError:\n",
    "            return f'Incorrect filename: {file}'\n",
    "    else:\n",
    "        return f\"Incorrect data type: '{data_type}'. Expected 'string' or 'file'\"\n",
    "\n",
    "    source = list(map(int, data.split()))\n",
    "\n",
    "    correct = sorted(source)\n",
    "    result = bubble_sort(source)\n",
    "    print(f'Sorted list: {result}')\n",
    "    if result == correct:\n",
    "        return f'Task one successfully tested'\n",
    "    else:\n",
    "        return 'Wrong sort algorithm'\n",
    "\n",
    "print(task_one())"
   ],
   "metadata": {
    "collapsed": false,
    "pycharm": {
     "name": "#%%\n"
    }
   }
  },
  {
   "cell_type": "markdown",
   "source": [
    "2.\tНеобходимо реализовать функцию, которой на входе передается список целых чисел и целое число x.\n",
    "На выходе функции – список, полученный из исходного, путем удаления из него всех элементов, равных x.\n",
    "Использовать метод remove() нельзя! Вывести полученный список на экран\n"
   ],
   "metadata": {
    "collapsed": false,
    "pycharm": {
     "name": "#%% md\n"
    }
   }
  },
  {
   "cell_type": "code",
   "execution_count": 11,
   "outputs": [
    {
     "name": "stdout",
     "output_type": "stream",
     "text": [
      "Source list: [3, 3, 6, 8, 4, 7, 1, 4, 8, 2, 3, 8, 5, 10, 5, 6, 2, 0, 9, 6]\n",
      "x: 6\n",
      "Task two successfully tested\n",
      "Answer: [3, 3, 8, 4, 7, 1, 4, 8, 2, 3, 8, 5, 10, 5, 2, 0, 9]\n"
     ]
    }
   ],
   "source": [
    "def task_two(array: list, x: int) -> list:\n",
    "    res = [i for i in array if i != x]\n",
    "    return res\n",
    "\n",
    "def test_task_two(array: list, x: int):\n",
    "    res = task_two(array, x)\n",
    "\n",
    "    count_x = array.count(x)\n",
    "    i = 0\n",
    "\n",
    "    while i < count_x:\n",
    "        array.remove(x)\n",
    "        i += 1\n",
    "\n",
    "    if res == array:\n",
    "        print('Task two successfully tested')\n",
    "        print(f'Answer: {res}')\n",
    "    else:\n",
    "        print('Wrong answer')\n",
    "\n",
    "\n",
    "source = [randint(0, 10) for _ in range(20)]\n",
    "n = randint(0, 10)\n",
    "\n",
    "print(f'Source list: {source}')\n",
    "print(f'x: {n}')\n",
    "test_task_two(source, n)"
   ],
   "metadata": {
    "collapsed": false,
    "pycharm": {
     "name": "#%%\n"
    }
   }
  },
  {
   "cell_type": "markdown",
   "source": [
    "3. Написать функцию, которая по списку целых чисел L строит два списка:\n",
    "L1 – из положительных элементов и L2 – из отрицательных.\n",
    "Считаем, что число 0 ни положительное, ни отрицательное"
   ],
   "metadata": {
    "collapsed": false,
    "pycharm": {
     "name": "#%% md\n"
    }
   }
  },
  {
   "cell_type": "code",
   "execution_count": 12,
   "outputs": [
    {
     "name": "stdout",
     "output_type": "stream",
     "text": [
      "Task three: source list: [4, -6, -9, -9, 8, 5, 7, 6, 5, 0, 0, 7, -9, -9, 4, 10, 4, 9, -9, 3]\n",
      "Task two successfully tested\n",
      "[4, 8, 5, 7, 6, 5, 7, 4, 10, 4, 9, 3] [-6, -9, -9, -9, -9, -9]\n"
     ]
    }
   ],
   "source": [
    "def task_three(array: list) -> tuple:\n",
    "    positive = []\n",
    "    negative = []\n",
    "\n",
    "    for i in array:\n",
    "        if i > 0:\n",
    "            positive.append(i)\n",
    "        if i < 0:\n",
    "            negative.append(i)\n",
    "    return positive, negative\n",
    "\n",
    "\n",
    "def test_task_three(array: list):\n",
    "    pos, neg = task_three(array)\n",
    "\n",
    "    for i, j in zip(pos, neg):\n",
    "        if i < 0:\n",
    "            print(f\"Test task three: wrong answer. Number '{i}' not a positive\")\n",
    "            return\n",
    "        if j > 0:\n",
    "            print(f\"Test task three: wrong answer. Number '{i}' not a negative\")\n",
    "            return\n",
    "    print('Task two successfully tested')\n",
    "    print(pos, neg)\n",
    "\n",
    "\n",
    "source_three = [randint(-10, 10) for _ in range(20)]\n",
    "print(f'Task three: source list: {source_three}')\n",
    "test_task_three(source_three)"
   ],
   "metadata": {
    "collapsed": false,
    "pycharm": {
     "name": "#%%\n"
    }
   }
  },
  {
   "cell_type": "markdown",
   "source": [
    "4. Написать функцию, которая по двум спискам целых чисел L1 и L2 строит новый список L,\n",
    "состоящий из элементов входящих в списки L1 и L2, причем если элемент входит в оба списка,\n",
    "то он добавляется только один раз. Использовать метод append() нельзя. Например, L1 = (1, 2, 2, 5), L2 = (2, 5, 7),\n",
    "тогда L = (1, 2, 2, 5, 7)."
   ],
   "metadata": {
    "collapsed": false,
    "pycharm": {
     "name": "#%% md\n"
    }
   }
  },
  {
   "cell_type": "code",
   "execution_count": 19,
   "outputs": [
    {
     "name": "stdout",
     "output_type": "stream",
     "text": [
      "Task four: Source list 1: [2, 1, 1, 4, 9, 6, 5, 0]. Source list 2: [10, 2]\n",
      "[2, 1, 1, 4, 9, 6, 5, 0, 10]\n"
     ]
    }
   ],
   "source": [
    "def task_four(list_1: list, list_2: list) -> list:\n",
    "\n",
    "    for i in list_2:\n",
    "        if i in list_1:\n",
    "            list_2.remove(i)\n",
    "\n",
    "    return list_1 + list_2\n",
    "\n",
    "\n",
    "source_l1 = [randint(0, 10) for _ in range(randint(1, 20))]\n",
    "source_l2 = [randint(0, 10) for _ in range(randint(1, 20))]\n",
    "\n",
    "print(f'Task four: Source list 1: {source_l1}. Source list 2: {source_l2}')\n",
    "print(task_four(source_l1, source_l2))\n"
   ],
   "metadata": {
    "collapsed": false,
    "pycharm": {
     "name": "#%%\n"
    }
   }
  },
  {
   "cell_type": "markdown",
   "source": [
    "5.\tПусть имеется файл действительных чисел и некоторое число C. Используя очередь, вывести на экран сначала все\n",
    "элементы, меньшие числа C, а затем все остальные элементы. Очередь реализовать в виде класса, который должен\n",
    "поддерживать работу с методами push (поместить элемент в начало очереди) и pop (получить элемент из конца очереди)."
   ],
   "metadata": {
    "collapsed": false,
    "pycharm": {
     "name": "#%% md\n"
    }
   }
  },
  {
   "cell_type": "code",
   "execution_count": 14,
   "outputs": [
    {
     "name": "stdout",
     "output_type": "stream",
     "text": [
      "Task five: Source numbers: <map object at 0x0000019774ECA100>\n",
      "Task five: C: 30\n",
      "Numbers < C: 1 5 2 7 14 \n",
      "Other: 45 78 \n"
     ]
    }
   ],
   "source": [
    "class Queue:\n",
    "    def __init__(self):\n",
    "        self.queue = []\n",
    "\n",
    "    def push(self, vale) -> None:\n",
    "        self.queue.append(vale)\n",
    "\n",
    "    def pop(self):\n",
    "        value = self.queue.pop(0)\n",
    "        return value\n",
    "\n",
    "    def __len__(self):\n",
    "        return len(self.queue)\n",
    "\n",
    "\n",
    "neg = Queue()\n",
    "other = Queue()\n",
    "\n",
    "with open(r'in.txt') as file:\n",
    "    data = map(int, file.readline().strip().split())\n",
    "    num = int(file.readline().strip())\n",
    "\n",
    "print(f'Task five: Source numbers: {data}')\n",
    "print(f'Task five: C: {num}')\n",
    "\n",
    "for i in data:\n",
    "    if i < num:\n",
    "        neg.push(i)\n",
    "    else:\n",
    "        other.push(i)\n",
    "\n",
    "neg_repr = ''\n",
    "\n",
    "while neg:\n",
    "    neg_repr += f'{neg.pop()} '\n",
    "\n",
    "print(f'Numbers < C: {neg_repr}')\n",
    "\n",
    "other_repr = ''\n",
    "\n",
    "while other:\n",
    "    other_repr += f'{other.pop()} '\n",
    "\n",
    "print(f'Other: {other_repr}')\n"
   ],
   "metadata": {
    "collapsed": false,
    "pycharm": {
     "name": "#%%\n"
    }
   }
  },
  {
   "cell_type": "markdown",
   "source": [
    "6.\tС помощью стека реализовать проверку вложенности скобок вида (). {} и [] в файле. В случае ошибки, необходимо\n",
    "вывести на экран позицию, где была нарушена вложенность скобок. Стек реализовать в виде класса, который должен\n",
    "поддерживать работу с методами push (поместить элемент в стек) и pop (получить элемент из стека)."
   ],
   "metadata": {
    "collapsed": false,
    "pycharm": {
     "name": "#%% md\n"
    }
   }
  },
  {
   "cell_type": "code",
   "execution_count": 15,
   "outputs": [],
   "source": [
    "class Stack:\n",
    "    def __init__(self):\n",
    "        self.stack = []\n",
    "\n",
    "    def __len__(self):\n",
    "        return len(self.stack)\n",
    "\n",
    "    def push(self, value) -> None:\n",
    "        self.stack.append(value)\n",
    "\n",
    "    def pop(self):\n",
    "        value = self.stack.pop(-1)\n",
    "        return value\n",
    "\n",
    "\n",
    "def task_six(s: str) -> str:\n",
    "    stack = Stack()\n",
    "\n",
    "    for i in range(len(s)):\n",
    "        if s[i] in ('(', '[', '{'):\n",
    "            stack.push(s[i])\n",
    "            continue\n",
    "\n",
    "        if not stack:\n",
    "            return f\"Unexpected symbol '{s[i]}', position: {i}\"\n",
    "\n",
    "        val = stack.pop()\n",
    "\n",
    "        if (val == '(' and s[i] != ')') or (val == '[' and s[i] != ']') or (val == '{' and s[i] != '}'):\n",
    "            return f\"Unexpected symbol '{s[i]}', position: {i}\"\n",
    "\n",
    "    if stack:\n",
    "        val = stack.pop()\n",
    "        return f\"Unexpected symbol '{val}', position: {s.index(val)}\"\n",
    "\n",
    "    return 'All good'\n"
   ],
   "metadata": {
    "collapsed": false,
    "pycharm": {
     "name": "#%%\n"
    }
   }
  },
  {
   "cell_type": "code",
   "execution_count": 16,
   "outputs": [
    {
     "name": "stdout",
     "output_type": "stream",
     "text": [
      "Task six: source string: (())\n",
      "All good\n",
      "Task six: source string: {([({})])}\n",
      "All good\n",
      "Task six: source string: ((()))))))))\n",
      "Unexpected symbol ')', position: 6\n"
     ]
    }
   ],
   "source": [
    "source_six_1 = '(())'\n",
    "print(f'Task six: source string: {source_six_1}')\n",
    "print(task_six(source_six_1))\n",
    "\n",
    "source_six_2 = '{([({})])}'\n",
    "print(f'Task six: source string: {source_six_2}')\n",
    "print(task_six(source_six_2))\n",
    "\n",
    "source_six_3 = '((()))))))))'\n",
    "print(f'Task six: source string: {source_six_3}')\n",
    "print(task_six(source_six_3))"
   ],
   "metadata": {
    "collapsed": false,
    "pycharm": {
     "name": "#%%\n"
    }
   }
  }
 ],
 "metadata": {
  "kernelspec": {
   "display_name": "Python 3",
   "language": "python",
   "name": "python3"
  },
  "language_info": {
   "codemirror_mode": {
    "name": "ipython",
    "version": 2
   },
   "file_extension": ".py",
   "mimetype": "text/x-python",
   "name": "python",
   "nbconvert_exporter": "python",
   "pygments_lexer": "ipython2",
   "version": "2.7.6"
  }
 },
 "nbformat": 4,
 "nbformat_minor": 0
}