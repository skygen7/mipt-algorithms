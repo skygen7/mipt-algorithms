{
 "cells": [
  {
   "cell_type": "markdown",
   "metadata": {
    "collapsed": true,
    "pycharm": {
     "name": "#%% md\n"
    }
   },
   "source": [
    "Липанов Максим Андреевич\n",
    "\n",
    "Группа М06-106б\n",
    "\n",
    "Базовые структуры данных: очереди с приоритетом, двоичная куча"
   ]
  },
  {
   "cell_type": "markdown",
   "source": [
    "1.\tСконструировать класс BinaryHeap, реализующий следующие операции над двоичной max-кучей:\n",
    "•\tpush - добавление элемента в кучу;\n",
    "•\tpop – получить значение и удалить корневой элемент из кучи.\n",
    "•\t(дополнительное задание – по желанию) реализовать конструктор класса, которому в качестве параметра передается список элементов, из которых нужно построить кучу"
   ],
   "metadata": {
    "collapsed": false,
    "pycharm": {
     "name": "#%% md\n"
    }
   }
  },
  {
   "cell_type": "code",
   "execution_count": null,
   "outputs": [],
   "source": [
    "class BinHeap:\n",
    "    def __init__(self, heap: list):\n",
    "        self.heap = heap\n",
    "        self.size = len(heap) - 1\n",
    "\n",
    "        self.balance()\n",
    "\n",
    "    def left(self, i):\n",
    "        return i * 2 + 1\n",
    "\n",
    "    def right(self, i):\n",
    "        return i * 2 + 2\n",
    "\n",
    "    def heapify(self, i):\n",
    "        left = self.left(i)\n",
    "        right = self.right(i)\n",
    "\n",
    "        if left <= self.size and self.heap[left] > self.heap[i]:\n",
    "            largest = left\n",
    "        else:\n",
    "            largest = i\n",
    "\n",
    "        if right <= self.size and self.heap[right] > self.heap[largest]:\n",
    "            largest = right\n",
    "        if largest != i:\n",
    "\n",
    "            self.heap[i], self.heap[largest] = self.heap[largest], self.heap[i]\n",
    "\n",
    "            self.heapify(largest)\n",
    "\n",
    "    def get_heap(self):\n",
    "        return self.heap\n",
    "\n",
    "    def balance(self):\n",
    "        for i in range(len(self.heap) // 2, -1, -1):\n",
    "            self.heapify(i)\n",
    "\n",
    "    def push(self, i):\n",
    "        self.heap.append(i)\n",
    "        self.size += 1\n",
    "        self.balance()\n",
    "\n",
    "    def pop(self, i):\n",
    "        self.heap.remove(i)\n",
    "        self.size -= 1\n",
    "\n",
    "        self.balance()\n",
    "\n",
    "\n",
    "hp = BinHeap([0, 0, 9, 5, 23, 0, 0, 2, 2, 1, 4, 0, 12, -1, 0])\n",
    "print(f\"Init binary heap: {hp.get_heap()}\")\n",
    "\n",
    "push_el = 7\n",
    "hp.push(push_el)\n",
    "print(f\"Push element '{push_el}'.\\nNew heap: {hp.get_heap()}\")\n",
    "\n",
    "pop_el = 4\n",
    "hp.pop(4)\n",
    "print(f\"Pop element: {pop_el}.\\nNew heap: {hp.get_heap()}\")\n"
   ],
   "metadata": {
    "collapsed": false,
    "pycharm": {
     "name": "#%%\n"
    }
   }
  },
  {
   "cell_type": "markdown",
   "source": [
    "2.\tРеализовать класс TaskQueue для работы со списком задач. Для каждой задачи задается название и приоритет\n",
    "(число от 1 до 4: 1 – низкий приоритет, 2 – средний приоритет, 3 – высокий приоритет, 4 – критическая задача).\n",
    "Класс должен обеспечивать возможность добавления задач в очередь, извлечение задачи из очереди, смену приоритета\n",
    "задачи из очереди. Для реализации использовать двоичную кучу. Для работы с двоичной кучей использовать библиотеку heapq"
   ],
   "metadata": {
    "collapsed": false,
    "pycharm": {
     "name": "#%% md\n"
    }
   }
  },
  {
   "cell_type": "code",
   "execution_count": null,
   "outputs": [],
   "source": [
    "import heapq\n",
    "\n",
    "\n",
    "class TaskQueue:\n",
    "    def __init__(self):\n",
    "        self.queue = []\n",
    "\n",
    "    def push(self, priority, obj):\n",
    "\n",
    "        heapq.heappush(self.queue, (-priority, obj))\n",
    "\n",
    "    def pop(self):\n",
    "        return heapq.heappop(self.queue)[-1]\n",
    "\n",
    "    def get_queue(self):\n",
    "        return [heapq.heappop(self.queue) for _ in range(len(self.queue))]\n",
    "\n",
    "\n",
    "q = TaskQueue()\n",
    "q.push(4, 'a')\n",
    "q.push(2, 'b')\n",
    "q.push(3, 'd')\n",
    "q.push(1, 'c')\n",
    "\n",
    "print(q.get_queue())"
   ],
   "metadata": {
    "collapsed": false,
    "pycharm": {
     "name": "#%%\n"
    }
   }
  }
 ],
 "metadata": {
  "kernelspec": {
   "display_name": "Python 3",
   "language": "python",
   "name": "python3"
  },
  "language_info": {
   "codemirror_mode": {
    "name": "ipython",
    "version": 2
   },
   "file_extension": ".py",
   "mimetype": "text/x-python",
   "name": "python",
   "nbconvert_exporter": "python",
   "pygments_lexer": "ipython2",
   "version": "2.7.6"
  }
 },
 "nbformat": 4,
 "nbformat_minor": 0
}